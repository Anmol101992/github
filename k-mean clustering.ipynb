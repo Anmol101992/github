{
 "cells": [
  {
   "cell_type": "code",
   "execution_count": 1,
   "metadata": {},
   "outputs": [],
   "source": [
    "#cluster analysis is used for doing segmentation\n",
    "#customer segmentation , market segmen tation , product segmentation , there are 2 types of ways in which we can do cluster analysis\n",
    "#1 herarichchal clustering\n",
    "#2 k means clustering \n",
    "# cluster analysis helps in grouping the observations in the dataset."
   ]
  },
  {
   "cell_type": "code",
   "execution_count": 2,
   "metadata": {},
   "outputs": [],
   "source": [
    "##K-means clustering"
   ]
  },
  {
   "cell_type": "code",
   "execution_count": 3,
   "metadata": {},
   "outputs": [],
   "source": [
    "import pandas as pd"
   ]
  },
  {
   "cell_type": "code",
   "execution_count": 4,
   "metadata": {},
   "outputs": [],
   "source": [
    "data = pd.read_csv('C:/Users/admin/Downloads/cluster menu.csv')"
   ]
  },
  {
   "cell_type": "code",
   "execution_count": 5,
   "metadata": {},
   "outputs": [
    {
     "data": {
      "text/html": [
       "<div>\n",
       "<style scoped>\n",
       "    .dataframe tbody tr th:only-of-type {\n",
       "        vertical-align: middle;\n",
       "    }\n",
       "\n",
       "    .dataframe tbody tr th {\n",
       "        vertical-align: top;\n",
       "    }\n",
       "\n",
       "    .dataframe thead th {\n",
       "        text-align: right;\n",
       "    }\n",
       "</style>\n",
       "<table border=\"1\" class=\"dataframe\">\n",
       "  <thead>\n",
       "    <tr style=\"text-align: right;\">\n",
       "      <th></th>\n",
       "      <th>Category</th>\n",
       "      <th>Item</th>\n",
       "      <th>Serving Size</th>\n",
       "      <th>Calories</th>\n",
       "      <th>Calories from Fat</th>\n",
       "      <th>Total Fat</th>\n",
       "      <th>Total Fat (% Daily Value)</th>\n",
       "      <th>Saturated Fat</th>\n",
       "      <th>Saturated Fat (% Daily Value)</th>\n",
       "      <th>Trans Fat</th>\n",
       "      <th>...</th>\n",
       "      <th>Carbohydrates</th>\n",
       "      <th>Carbohydrates (% Daily Value)</th>\n",
       "      <th>Dietary Fiber</th>\n",
       "      <th>Dietary Fiber (% Daily Value)</th>\n",
       "      <th>Sugars</th>\n",
       "      <th>Protein</th>\n",
       "      <th>Vitamin A (% Daily Value)</th>\n",
       "      <th>Vitamin C (% Daily Value)</th>\n",
       "      <th>Calcium (% Daily Value)</th>\n",
       "      <th>Iron (% Daily Value)</th>\n",
       "    </tr>\n",
       "  </thead>\n",
       "  <tbody>\n",
       "    <tr>\n",
       "      <th>0</th>\n",
       "      <td>Breakfast</td>\n",
       "      <td>Egg McMuffin</td>\n",
       "      <td>4.8 oz (136 g)</td>\n",
       "      <td>300</td>\n",
       "      <td>120</td>\n",
       "      <td>13.0</td>\n",
       "      <td>20</td>\n",
       "      <td>5.0</td>\n",
       "      <td>25</td>\n",
       "      <td>0.0</td>\n",
       "      <td>...</td>\n",
       "      <td>31</td>\n",
       "      <td>10</td>\n",
       "      <td>4</td>\n",
       "      <td>17</td>\n",
       "      <td>3</td>\n",
       "      <td>17</td>\n",
       "      <td>10</td>\n",
       "      <td>0</td>\n",
       "      <td>25</td>\n",
       "      <td>15</td>\n",
       "    </tr>\n",
       "    <tr>\n",
       "      <th>1</th>\n",
       "      <td>Breakfast</td>\n",
       "      <td>Egg White Delight</td>\n",
       "      <td>4.8 oz (135 g)</td>\n",
       "      <td>250</td>\n",
       "      <td>70</td>\n",
       "      <td>8.0</td>\n",
       "      <td>12</td>\n",
       "      <td>3.0</td>\n",
       "      <td>15</td>\n",
       "      <td>0.0</td>\n",
       "      <td>...</td>\n",
       "      <td>30</td>\n",
       "      <td>10</td>\n",
       "      <td>4</td>\n",
       "      <td>17</td>\n",
       "      <td>3</td>\n",
       "      <td>18</td>\n",
       "      <td>6</td>\n",
       "      <td>0</td>\n",
       "      <td>25</td>\n",
       "      <td>8</td>\n",
       "    </tr>\n",
       "    <tr>\n",
       "      <th>2</th>\n",
       "      <td>Breakfast</td>\n",
       "      <td>Sausage McMuffin</td>\n",
       "      <td>3.9 oz (111 g)</td>\n",
       "      <td>370</td>\n",
       "      <td>200</td>\n",
       "      <td>23.0</td>\n",
       "      <td>35</td>\n",
       "      <td>8.0</td>\n",
       "      <td>42</td>\n",
       "      <td>0.0</td>\n",
       "      <td>...</td>\n",
       "      <td>29</td>\n",
       "      <td>10</td>\n",
       "      <td>4</td>\n",
       "      <td>17</td>\n",
       "      <td>2</td>\n",
       "      <td>14</td>\n",
       "      <td>8</td>\n",
       "      <td>0</td>\n",
       "      <td>25</td>\n",
       "      <td>10</td>\n",
       "    </tr>\n",
       "    <tr>\n",
       "      <th>3</th>\n",
       "      <td>Breakfast</td>\n",
       "      <td>Sausage McMuffin with Egg</td>\n",
       "      <td>5.7 oz (161 g)</td>\n",
       "      <td>450</td>\n",
       "      <td>250</td>\n",
       "      <td>28.0</td>\n",
       "      <td>43</td>\n",
       "      <td>10.0</td>\n",
       "      <td>52</td>\n",
       "      <td>0.0</td>\n",
       "      <td>...</td>\n",
       "      <td>30</td>\n",
       "      <td>10</td>\n",
       "      <td>4</td>\n",
       "      <td>17</td>\n",
       "      <td>2</td>\n",
       "      <td>21</td>\n",
       "      <td>15</td>\n",
       "      <td>0</td>\n",
       "      <td>30</td>\n",
       "      <td>15</td>\n",
       "    </tr>\n",
       "    <tr>\n",
       "      <th>4</th>\n",
       "      <td>Breakfast</td>\n",
       "      <td>Sausage McMuffin with Egg Whites</td>\n",
       "      <td>5.7 oz (161 g)</td>\n",
       "      <td>400</td>\n",
       "      <td>210</td>\n",
       "      <td>23.0</td>\n",
       "      <td>35</td>\n",
       "      <td>8.0</td>\n",
       "      <td>42</td>\n",
       "      <td>0.0</td>\n",
       "      <td>...</td>\n",
       "      <td>30</td>\n",
       "      <td>10</td>\n",
       "      <td>4</td>\n",
       "      <td>17</td>\n",
       "      <td>2</td>\n",
       "      <td>21</td>\n",
       "      <td>6</td>\n",
       "      <td>0</td>\n",
       "      <td>25</td>\n",
       "      <td>10</td>\n",
       "    </tr>\n",
       "  </tbody>\n",
       "</table>\n",
       "<p>5 rows × 24 columns</p>\n",
       "</div>"
      ],
      "text/plain": [
       "    Category                              Item    Serving Size  Calories  \\\n",
       "0  Breakfast                      Egg McMuffin  4.8 oz (136 g)       300   \n",
       "1  Breakfast                 Egg White Delight  4.8 oz (135 g)       250   \n",
       "2  Breakfast                  Sausage McMuffin  3.9 oz (111 g)       370   \n",
       "3  Breakfast         Sausage McMuffin with Egg  5.7 oz (161 g)       450   \n",
       "4  Breakfast  Sausage McMuffin with Egg Whites  5.7 oz (161 g)       400   \n",
       "\n",
       "   Calories from Fat  Total Fat  Total Fat (% Daily Value)  Saturated Fat  \\\n",
       "0                120       13.0                         20            5.0   \n",
       "1                 70        8.0                         12            3.0   \n",
       "2                200       23.0                         35            8.0   \n",
       "3                250       28.0                         43           10.0   \n",
       "4                210       23.0                         35            8.0   \n",
       "\n",
       "   Saturated Fat (% Daily Value)  Trans Fat  ...  Carbohydrates  \\\n",
       "0                             25        0.0  ...             31   \n",
       "1                             15        0.0  ...             30   \n",
       "2                             42        0.0  ...             29   \n",
       "3                             52        0.0  ...             30   \n",
       "4                             42        0.0  ...             30   \n",
       "\n",
       "   Carbohydrates (% Daily Value)  Dietary Fiber  \\\n",
       "0                             10              4   \n",
       "1                             10              4   \n",
       "2                             10              4   \n",
       "3                             10              4   \n",
       "4                             10              4   \n",
       "\n",
       "   Dietary Fiber (% Daily Value)  Sugars  Protein  Vitamin A (% Daily Value)  \\\n",
       "0                             17       3       17                         10   \n",
       "1                             17       3       18                          6   \n",
       "2                             17       2       14                          8   \n",
       "3                             17       2       21                         15   \n",
       "4                             17       2       21                          6   \n",
       "\n",
       "   Vitamin C (% Daily Value)  Calcium (% Daily Value)  Iron (% Daily Value)  \n",
       "0                          0                       25                    15  \n",
       "1                          0                       25                     8  \n",
       "2                          0                       25                    10  \n",
       "3                          0                       30                    15  \n",
       "4                          0                       25                    10  \n",
       "\n",
       "[5 rows x 24 columns]"
      ]
     },
     "execution_count": 5,
     "metadata": {},
     "output_type": "execute_result"
    }
   ],
   "source": [
    "data.head()"
   ]
  },
  {
   "cell_type": "code",
   "execution_count": 6,
   "metadata": {},
   "outputs": [
    {
     "data": {
      "text/plain": [
       "(260, 24)"
      ]
     },
     "execution_count": 6,
     "metadata": {},
     "output_type": "execute_result"
    }
   ],
   "source": [
    "data.shape"
   ]
  },
  {
   "cell_type": "code",
   "execution_count": 7,
   "metadata": {},
   "outputs": [
    {
     "data": {
      "text/plain": [
       "array(['Egg McMuffin', 'Egg White Delight', 'Sausage McMuffin',\n",
       "       'Sausage McMuffin with Egg', 'Sausage McMuffin with Egg Whites',\n",
       "       'Steak & Egg McMuffin',\n",
       "       'Bacon, Egg & Cheese Biscuit (Regular Biscuit)',\n",
       "       'Bacon, Egg & Cheese Biscuit (Large Biscuit)',\n",
       "       'Bacon, Egg & Cheese Biscuit with Egg Whites (Regular Biscuit)',\n",
       "       'Bacon, Egg & Cheese Biscuit with Egg Whites (Large Biscuit)',\n",
       "       'Sausage Biscuit (Regular Biscuit)',\n",
       "       'Sausage Biscuit (Large Biscuit)',\n",
       "       'Sausage Biscuit with Egg (Regular Biscuit)',\n",
       "       'Sausage Biscuit with Egg (Large Biscuit)',\n",
       "       'Sausage Biscuit with Egg Whites (Regular Biscuit)',\n",
       "       'Sausage Biscuit with Egg Whites (Large Biscuit)',\n",
       "       'Southern Style Chicken Biscuit (Regular Biscuit)',\n",
       "       'Southern Style Chicken Biscuit (Large Biscuit)',\n",
       "       'Steak & Egg Biscuit (Regular Biscuit)',\n",
       "       'Bacon, Egg & Cheese McGriddles',\n",
       "       'Bacon, Egg & Cheese McGriddles with Egg Whites',\n",
       "       'Sausage McGriddles', 'Sausage, Egg & Cheese McGriddles',\n",
       "       'Sausage, Egg & Cheese McGriddles with Egg Whites',\n",
       "       'Bacon, Egg & Cheese Bagel',\n",
       "       'Bacon, Egg & Cheese Bagel with Egg Whites',\n",
       "       'Steak, Egg & Cheese Bagel', 'Big Breakfast (Regular Biscuit)',\n",
       "       'Big Breakfast (Large Biscuit)',\n",
       "       'Big Breakfast with Egg Whites (Regular Biscuit)',\n",
       "       'Big Breakfast with Egg Whites (Large Biscuit)',\n",
       "       'Big Breakfast with Hotcakes (Regular Biscuit)',\n",
       "       'Big Breakfast with Hotcakes (Large Biscuit)',\n",
       "       'Big Breakfast with Hotcakes and Egg Whites (Regular Biscuit)',\n",
       "       'Big Breakfast with Hotcakes and Egg Whites (Large Biscuit)',\n",
       "       'Hotcakes', 'Hotcakes and Sausage', 'Sausage Burrito',\n",
       "       'Hash Brown', 'Cinnamon Melts', 'Fruit & Maple Oatmeal',\n",
       "       'Fruit & Maple Oatmeal without Brown Sugar', 'Big Mac',\n",
       "       'Quarter Pounder with Cheese',\n",
       "       'Quarter Pounder with Bacon & Cheese',\n",
       "       'Quarter Pounder with Bacon Habanero Ranch',\n",
       "       'Quarter Pounder Deluxe', 'Double Quarter Pounder with Cheese',\n",
       "       'Hamburger', 'Cheeseburger', 'Double Cheeseburger',\n",
       "       'Bacon Clubhouse Burger', 'McDouble', 'Bacon McDouble',\n",
       "       'Daily Double', 'Jalapeño Double', 'McRib',\n",
       "       'Premium Crispy Chicken Classic Sandwich',\n",
       "       'Premium Grilled Chicken Classic Sandwich',\n",
       "       'Premium Crispy Chicken Club Sandwich',\n",
       "       'Premium Grilled Chicken Club Sandwich',\n",
       "       'Premium Crispy Chicken Ranch BLT Sandwich',\n",
       "       'Premium Grilled Chicken Ranch BLT Sandwich',\n",
       "       'Bacon Clubhouse Crispy Chicken Sandwich',\n",
       "       'Bacon Clubhouse Grilled Chicken Sandwich',\n",
       "       'Southern Style Crispy Chicken Sandwich', 'McChicken',\n",
       "       'Bacon Cheddar McChicken', 'Bacon Buffalo Ranch McChicken',\n",
       "       'Buffalo Ranch McChicken',\n",
       "       'Premium McWrap Chicken & Bacon (Crispy Chicken)',\n",
       "       'Premium McWrap Chicken & Bacon (Grilled Chicken)',\n",
       "       'Premium McWrap Chicken & Ranch (Crispy Chicken)',\n",
       "       'Premium McWrap Chicken & Ranch (Grilled Chicken)',\n",
       "       'Premium McWrap Southwest Chicken (Crispy Chicken)',\n",
       "       'Premium McWrap Southwest Chicken (Grilled Chicken)',\n",
       "       'Premium McWrap Chicken Sweet Chili (Crispy Chicken)',\n",
       "       'Premium McWrap Chicken Sweet Chili (Grilled Chicken)',\n",
       "       'Chicken McNuggets (4 piece)', 'Chicken McNuggets (6 piece)',\n",
       "       'Chicken McNuggets (10 piece)', 'Chicken McNuggets (20 piece)',\n",
       "       'Chicken McNuggets (40 piece)', 'Filet-O-Fish',\n",
       "       'Premium Bacon Ranch Salad (without Chicken)',\n",
       "       'Premium Bacon Ranch Salad with Crispy Chicken',\n",
       "       'Premium Bacon Ranch Salad with Grilled Chicken',\n",
       "       'Premium Southwest Salad (without Chicken)',\n",
       "       'Premium Southwest Salad with Crispy Chicken',\n",
       "       'Premium Southwest Salad with Grilled Chicken',\n",
       "       'Chipotle BBQ Snack Wrap (Crispy Chicken)',\n",
       "       'Chipotle BBQ Snack Wrap (Grilled Chicken)',\n",
       "       'Honey Mustard Snack Wrap (Crispy Chicken)',\n",
       "       'Honey Mustard Snack Wrap (Grilled Chicken)',\n",
       "       'Ranch Snack Wrap (Crispy Chicken)',\n",
       "       'Ranch Snack Wrap (Grilled Chicken)', 'Small French Fries',\n",
       "       'Medium French Fries', 'Large French Fries', 'Kids French Fries',\n",
       "       'Side Salad', 'Apple Slices', \"Fruit 'n Yogurt Parfait\",\n",
       "       'Baked Apple Pie', 'Chocolate Chip Cookie',\n",
       "       'Oatmeal Raisin Cookie', 'Kids Ice Cream Cone', 'Hot Fudge Sundae',\n",
       "       'Hot Caramel Sundae', 'Strawberry Sundae',\n",
       "       'Coca-Cola Classic (Small)', 'Coca-Cola Classic (Medium)',\n",
       "       'Coca-Cola Classic (Large)', 'Coca-Cola Classic (Child)',\n",
       "       'Diet Coke (Small)', 'Diet Coke (Medium)', 'Diet Coke (Large)',\n",
       "       'Diet Coke (Child)', 'Dr Pepper (Small)', 'Dr Pepper (Medium)',\n",
       "       'Dr Pepper (Large)', 'Dr Pepper (Child)', 'Diet Dr Pepper (Small)',\n",
       "       'Diet Dr Pepper (Medium)', 'Diet Dr Pepper (Large)',\n",
       "       'Diet Dr Pepper (Child)', 'Sprite (Small)', 'Sprite (Medium)',\n",
       "       'Sprite (Large)', 'Sprite (Child)', '1% Low Fat Milk Jug',\n",
       "       'Fat Free Chocolate Milk Jug', 'Minute Maid 100% Apple Juice Box',\n",
       "       'Minute Maid Orange Juice (Small)',\n",
       "       'Minute Maid Orange Juice (Medium)',\n",
       "       'Minute Maid Orange Juice (Large)', 'Dasani Water Bottle',\n",
       "       'Iced Tea (Small)', 'Iced Tea (Medium)', 'Iced Tea (Large)',\n",
       "       'Iced Tea (Child)', 'Sweet Tea (Small)', 'Sweet Tea (Medium)',\n",
       "       'Sweet Tea (Large)', 'Sweet Tea (Child)', 'Coffee (Small)',\n",
       "       'Coffee (Medium)', 'Coffee (Large)', 'Latte (Small)',\n",
       "       'Latte (Medium)', 'Latte (Large)', 'Caramel Latte (Small)',\n",
       "       'Caramel Latte (Medium)', 'Caramel Latte (Large)',\n",
       "       'Hazelnut Latte (Small)', 'Hazelnut Latte (Medium)',\n",
       "       'Hazelnut Latte (Large)', 'French Vanilla Latte (Small)',\n",
       "       'French Vanilla Latte (Medium)', 'French Vanilla Latte (Large)',\n",
       "       'Latte with Sugar Free French Vanilla Syrup (Small)',\n",
       "       'Latte with Sugar Free French Vanilla Syrup (Medium)',\n",
       "       'Latte with Sugar Free French Vanilla Syrup (Large)',\n",
       "       'Nonfat Latte (Small)', 'Nonfat Latte (Medium)',\n",
       "       'Nonfat Latte (Large)', 'Nonfat Caramel Latte (Small)',\n",
       "       'Nonfat Caramel Latte (Medium)', 'Nonfat Caramel Latte (Large)',\n",
       "       'Nonfat Hazelnut Latte (Small)', 'Nonfat Hazelnut Latte (Medium)',\n",
       "       'Nonfat Hazelnut Latte (Large)',\n",
       "       'Nonfat French Vanilla Latte (Small)',\n",
       "       'Nonfat French Vanilla Latte (Medium)',\n",
       "       'Nonfat French Vanilla Latte (Large)',\n",
       "       'Nonfat Latte with Sugar Free French Vanilla Syrup (Small)',\n",
       "       'Nonfat Latte with Sugar Free French Vanilla Syrup (Medium)',\n",
       "       'Nonfat Latte with Sugar Free French Vanilla Syrup (Large)',\n",
       "       'Mocha (Small)', 'Mocha (Medium)', 'Mocha (Large)',\n",
       "       'Mocha with Nonfat Milk (Small)',\n",
       "       'Mocha with Nonfat Milk (Medium)',\n",
       "       'Mocha with Nonfat Milk (Large)', 'Caramel Mocha (Small)',\n",
       "       'Caramel Mocha (Medium)', 'Caramel Mocha (Large)',\n",
       "       'Nonfat Caramel Mocha (Small)', 'Nonfat Caramel Mocha (Medium)',\n",
       "       'Nonfat Caramel Mocha (Large)', 'Hot Chocolate (Small)',\n",
       "       'Hot Chocolate (Medium)', 'Hot Chocolate (Large)',\n",
       "       'Hot Chocolate with Nonfat Milk (Small)',\n",
       "       'Hot Chocolate with Nonfat Milk (Medium)',\n",
       "       'Hot Chocolate with Nonfat Milk (Large)',\n",
       "       'Regular Iced Coffee (Small)', 'Regular Iced Coffee (Medium)',\n",
       "       'Regular Iced Coffee (Large)', 'Caramel Iced Coffee (Small)',\n",
       "       'Caramel Iced Coffee (Medium)', 'Caramel Iced Coffee (Large)',\n",
       "       'Hazelnut Iced Coffee (Small)', 'Hazelnut Iced Coffee (Medium)',\n",
       "       'Hazelnut Iced Coffee (Large)',\n",
       "       'French Vanilla Iced Coffee (Small)',\n",
       "       'French Vanilla Iced Coffee (Medium)',\n",
       "       'French Vanilla Iced Coffee (Large)',\n",
       "       'Iced Coffee with Sugar Free French Vanilla Syrup (Small)',\n",
       "       'Iced Coffee with Sugar Free French Vanilla Syrup (Medium)',\n",
       "       'Iced Coffee with Sugar Free French Vanilla Syrup (Large)',\n",
       "       'Iced Mocha (Small)', 'Iced Mocha (Medium)', 'Iced Mocha (Large)',\n",
       "       'Iced Mocha with Nonfat Milk (Small)',\n",
       "       'Iced Mocha with Nonfat Milk (Medium)',\n",
       "       'Iced Mocha with Nonfat Milk (Large)',\n",
       "       'Iced Caramel Mocha (Small)', 'Iced Caramel Mocha (Medium)',\n",
       "       'Iced Caramel Mocha (Large)', 'Iced Nonfat Caramel Mocha (Small)',\n",
       "       'Iced Nonfat Caramel Mocha (Medium)',\n",
       "       'Iced Nonfat Caramel Mocha (Large)', 'Frappé Mocha (Small)',\n",
       "       'Frappé Mocha (Medium)', 'Frappé Mocha (Large)',\n",
       "       'Frappé Caramel (Small)', 'Frappé Caramel (Medium)',\n",
       "       'Frappé Caramel (Large)', 'Frappé Chocolate Chip (Small)',\n",
       "       'Frappé Chocolate Chip (Medium)', 'Frappé Chocolate Chip (Large)',\n",
       "       'Blueberry Pomegranate Smoothie (Small)',\n",
       "       'Blueberry Pomegranate Smoothie (Medium)',\n",
       "       'Blueberry Pomegranate Smoothie (Large)',\n",
       "       'Strawberry Banana Smoothie (Small)',\n",
       "       'Strawberry Banana Smoothie (Medium)',\n",
       "       'Strawberry Banana Smoothie (Large)',\n",
       "       'Mango Pineapple Smoothie (Small)',\n",
       "       'Mango Pineapple Smoothie (Medium)',\n",
       "       'Mango Pineapple Smoothie (Large)', 'Vanilla Shake (Small)',\n",
       "       'Vanilla Shake (Medium)', 'Vanilla Shake (Large)',\n",
       "       'Strawberry Shake (Small)', 'Strawberry Shake (Medium)',\n",
       "       'Strawberry Shake (Large)', 'Chocolate Shake (Small)',\n",
       "       'Chocolate Shake (Medium)', 'Chocolate Shake (Large)',\n",
       "       'Shamrock Shake (Medium)', 'Shamrock Shake (Large)',\n",
       "       'McFlurry with M&M’s Candies (Small)',\n",
       "       'McFlurry with M&M’s Candies (Medium)',\n",
       "       'McFlurry with M&M’s Candies (Snack)',\n",
       "       'McFlurry with Oreo Cookies (Small)',\n",
       "       'McFlurry with Oreo Cookies (Medium)',\n",
       "       'McFlurry with Oreo Cookies (Snack)',\n",
       "       \"McFlurry with Reese's Peanut Butter Cups (Medium)\",\n",
       "       \"McFlurry with Reese's Peanut Butter Cups (Snack)\"], dtype=object)"
      ]
     },
     "execution_count": 7,
     "metadata": {},
     "output_type": "execute_result"
    }
   ],
   "source": [
    "data['Item'].unique()"
   ]
  },
  {
   "cell_type": "code",
   "execution_count": 8,
   "metadata": {},
   "outputs": [
    {
     "name": "stdout",
     "output_type": "stream",
     "text": [
      "<class 'pandas.core.frame.DataFrame'>\n",
      "RangeIndex: 260 entries, 0 to 259\n",
      "Data columns (total 24 columns):\n",
      " #   Column                         Non-Null Count  Dtype  \n",
      "---  ------                         --------------  -----  \n",
      " 0   Category                       260 non-null    object \n",
      " 1   Item                           260 non-null    object \n",
      " 2   Serving Size                   260 non-null    object \n",
      " 3   Calories                       260 non-null    int64  \n",
      " 4   Calories from Fat              260 non-null    int64  \n",
      " 5   Total Fat                      260 non-null    float64\n",
      " 6   Total Fat (% Daily Value)      260 non-null    int64  \n",
      " 7   Saturated Fat                  260 non-null    float64\n",
      " 8   Saturated Fat (% Daily Value)  260 non-null    int64  \n",
      " 9   Trans Fat                      260 non-null    float64\n",
      " 10  Cholesterol                    260 non-null    int64  \n",
      " 11  Cholesterol (% Daily Value)    260 non-null    int64  \n",
      " 12  Sodium                         260 non-null    int64  \n",
      " 13  Sodium (% Daily Value)         260 non-null    int64  \n",
      " 14  Carbohydrates                  260 non-null    int64  \n",
      " 15  Carbohydrates (% Daily Value)  260 non-null    int64  \n",
      " 16  Dietary Fiber                  260 non-null    int64  \n",
      " 17  Dietary Fiber (% Daily Value)  260 non-null    int64  \n",
      " 18  Sugars                         260 non-null    int64  \n",
      " 19  Protein                        260 non-null    int64  \n",
      " 20  Vitamin A (% Daily Value)      260 non-null    int64  \n",
      " 21  Vitamin C (% Daily Value)      260 non-null    int64  \n",
      " 22  Calcium (% Daily Value)        260 non-null    int64  \n",
      " 23  Iron (% Daily Value)           260 non-null    int64  \n",
      "dtypes: float64(3), int64(18), object(3)\n",
      "memory usage: 48.9+ KB\n"
     ]
    }
   ],
   "source": [
    "data.info()"
   ]
  },
  {
   "cell_type": "code",
   "execution_count": 9,
   "metadata": {},
   "outputs": [],
   "source": [
    "X= data[['Calories','Total Fat','Cholesterol','Sodium','Carbohydrates','Sugars','Protein','Dietary Fiber']]"
   ]
  },
  {
   "cell_type": "code",
   "execution_count": 10,
   "metadata": {},
   "outputs": [
    {
     "data": {
      "text/plain": [
       "(260, 8)"
      ]
     },
     "execution_count": 10,
     "metadata": {},
     "output_type": "execute_result"
    }
   ],
   "source": [
    "X.shape"
   ]
  },
  {
   "cell_type": "code",
   "execution_count": 11,
   "metadata": {},
   "outputs": [],
   "source": [
    "# determining optimum no. of clusters, this is done by creating a scree plot"
   ]
  },
  {
   "cell_type": "code",
   "execution_count": 12,
   "metadata": {},
   "outputs": [],
   "source": [
    "from sklearn.cluster import KMeans"
   ]
  },
  {
   "cell_type": "code",
   "execution_count": 13,
   "metadata": {},
   "outputs": [
    {
     "data": {
      "text/plain": [
       "[103667460.00384608,\n",
       " 32054938.302197788,\n",
       " 21114661.077922083,\n",
       " 15102690.926162787,\n",
       " 9825855.954101883,\n",
       " 7551477.850498341,\n",
       " 6016903.0793424575,\n",
       " 4886836.515713362,\n",
       " 4268881.370157761]"
      ]
     },
     "execution_count": 13,
     "metadata": {},
     "output_type": "execute_result"
    }
   ],
   "source": [
    "mylist=[]\n",
    "for i in range (1,10):\n",
    "    result=KMeans(n_clusters=i)\n",
    "    result.fit(X)\n",
    "    mylist.append(result.inertia_)\n",
    "mylist    "
   ]
  },
  {
   "cell_type": "code",
   "execution_count": 14,
   "metadata": {},
   "outputs": [
    {
     "data": {
      "text/plain": [
       "[<matplotlib.lines.Line2D at 0x27de76cef10>]"
      ]
     },
     "execution_count": 14,
     "metadata": {},
     "output_type": "execute_result"
    },
    {
     "data": {
      "image/png": "[encoded data removed]",
      "text/plain": [
       "<Figure size 432x288 with 1 Axes>"
      ]
     },
     "metadata": {
      "needs_background": "light"
     },
     "output_type": "display_data"
    }
   ],
   "source": [
    "import matplotlib.pyplot as plt\n",
    "plt.plot(range(1,10),mylist)"
   ]
  },
  {
   "cell_type": "code",
   "execution_count": 15,
   "metadata": {},
   "outputs": [],
   "source": [
    "#from scree plot we got no. of clusters =3"
   ]
  },
  {
   "cell_type": "code",
   "execution_count": 16,
   "metadata": {},
   "outputs": [
    {
     "data": {
      "text/plain": [
       "KMeans(n_clusters=3)"
      ]
     },
     "execution_count": 16,
     "metadata": {},
     "output_type": "execute_result"
    }
   ],
   "source": [
    "ans = KMeans(n_clusters=3)\n",
    "ans.fit(X)"
   ]
  },
  {
   "cell_type": "code",
   "execution_count": 17,
   "metadata": {},
   "outputs": [
    {
     "data": {
      "text/plain": [
       "21180228.803685516"
      ]
     },
     "execution_count": 17,
     "metadata": {},
     "output_type": "execute_result"
    }
   ],
   "source": [
    "ans.inertia_"
   ]
  },
  {
   "cell_type": "code",
   "execution_count": 18,
   "metadata": {},
   "outputs": [],
   "source": [
    "bestkmeans =KMeans(n_clusters=3)"
   ]
  },
  {
   "cell_type": "code",
   "execution_count": 19,
   "metadata": {},
   "outputs": [],
   "source": [
    "result=bestkmeans.fit_predict(X)"
   ]
  },
  {
   "cell_type": "code",
   "execution_count": 20,
   "metadata": {},
   "outputs": [
    {
     "data": {
      "text/plain": [
       "array([0, 0, 0, 0, 0, 0, 0, 0, 0, 0, 0, 0, 0, 0, 0, 0, 0, 0, 0, 0, 0, 0,\n",
       "       0, 0, 0, 0, 0, 0, 2, 0, 0, 2, 2, 2, 2, 1, 0, 0, 1, 1, 1, 1, 0, 0,\n",
       "       0, 0, 0, 0, 1, 0, 0, 0, 0, 0, 0, 0, 0, 0, 0, 0, 0, 0, 0, 0, 0, 0,\n",
       "       0, 0, 0, 0, 0, 0, 0, 0, 0, 0, 0, 0, 1, 1, 0, 2, 2, 1, 1, 0, 0, 1,\n",
       "       0, 0, 0, 0, 0, 1, 0, 0, 1, 1, 1, 1, 1, 1, 1, 1, 1, 1, 1, 1, 1, 1,\n",
       "       1, 1, 1, 1, 1, 1, 1, 1, 1, 1, 1, 1, 1, 1, 1, 1, 1, 1, 1, 1, 1, 1,\n",
       "       1, 1, 1, 1, 1, 1, 1, 1, 1, 1, 1, 1, 1, 1, 1, 1, 1, 1, 1, 1, 1, 1,\n",
       "       1, 1, 1, 1, 1, 1, 1, 1, 1, 1, 1, 1, 1, 1, 1, 1, 1, 1, 1, 1, 1, 1,\n",
       "       1, 1, 1, 1, 1, 1, 1, 1, 1, 1, 1, 1, 1, 1, 1, 1, 1, 1, 1, 1, 1, 1,\n",
       "       1, 1, 1, 1, 1, 1, 1, 1, 1, 1, 1, 1, 1, 1, 1, 1, 1, 1, 1, 1, 1, 1,\n",
       "       1, 1, 1, 1, 1, 1, 1, 1, 1, 1, 1, 1, 1, 1, 1, 1, 1, 1, 1, 1, 1, 1,\n",
       "       1, 1, 1, 1, 1, 1, 1, 1, 1, 1, 1, 1, 1, 1, 1, 1, 1, 1])"
      ]
     },
     "execution_count": 20,
     "metadata": {},
     "output_type": "execute_result"
    }
   ],
   "source": [
    "result"
   ]
  },
  {
   "cell_type": "code",
   "execution_count": 21,
   "metadata": {},
   "outputs": [],
   "source": [
    "data['cluster']=result"
   ]
  },
  {
   "cell_type": "code",
   "execution_count": 22,
   "metadata": {},
   "outputs": [
    {
     "data": {
      "text/html": [
       "<div>\n",
       "<style scoped>\n",
       "    .dataframe tbody tr th:only-of-type {\n",
       "        vertical-align: middle;\n",
       "    }\n",
       "\n",
       "    .dataframe tbody tr th {\n",
       "        vertical-align: top;\n",
       "    }\n",
       "\n",
       "    .dataframe thead th {\n",
       "        text-align: right;\n",
       "    }\n",
       "</style>\n",
       "<table border=\"1\" class=\"dataframe\">\n",
       "  <thead>\n",
       "    <tr style=\"text-align: right;\">\n",
       "      <th></th>\n",
       "      <th>Category</th>\n",
       "      <th>Item</th>\n",
       "      <th>Serving Size</th>\n",
       "      <th>Calories</th>\n",
       "      <th>Calories from Fat</th>\n",
       "      <th>Total Fat</th>\n",
       "      <th>Total Fat (% Daily Value)</th>\n",
       "      <th>Saturated Fat</th>\n",
       "      <th>Saturated Fat (% Daily Value)</th>\n",
       "      <th>Trans Fat</th>\n",
       "      <th>...</th>\n",
       "      <th>Carbohydrates (% Daily Value)</th>\n",
       "      <th>Dietary Fiber</th>\n",
       "      <th>Dietary Fiber (% Daily Value)</th>\n",
       "      <th>Sugars</th>\n",
       "      <th>Protein</th>\n",
       "      <th>Vitamin A (% Daily Value)</th>\n",
       "      <th>Vitamin C (% Daily Value)</th>\n",
       "      <th>Calcium (% Daily Value)</th>\n",
       "      <th>Iron (% Daily Value)</th>\n",
       "      <th>cluster</th>\n",
       "    </tr>\n",
       "  </thead>\n",
       "  <tbody>\n",
       "    <tr>\n",
       "      <th>0</th>\n",
       "      <td>Breakfast</td>\n",
       "      <td>Egg McMuffin</td>\n",
       "      <td>4.8 oz (136 g)</td>\n",
       "      <td>300</td>\n",
       "      <td>120</td>\n",
       "      <td>13.0</td>\n",
       "      <td>20</td>\n",
       "      <td>5.0</td>\n",
       "      <td>25</td>\n",
       "      <td>0.0</td>\n",
       "      <td>...</td>\n",
       "      <td>10</td>\n",
       "      <td>4</td>\n",
       "      <td>17</td>\n",
       "      <td>3</td>\n",
       "      <td>17</td>\n",
       "      <td>10</td>\n",
       "      <td>0</td>\n",
       "      <td>25</td>\n",
       "      <td>15</td>\n",
       "      <td>0</td>\n",
       "    </tr>\n",
       "    <tr>\n",
       "      <th>1</th>\n",
       "      <td>Breakfast</td>\n",
       "      <td>Egg White Delight</td>\n",
       "      <td>4.8 oz (135 g)</td>\n",
       "      <td>250</td>\n",
       "      <td>70</td>\n",
       "      <td>8.0</td>\n",
       "      <td>12</td>\n",
       "      <td>3.0</td>\n",
       "      <td>15</td>\n",
       "      <td>0.0</td>\n",
       "      <td>...</td>\n",
       "      <td>10</td>\n",
       "      <td>4</td>\n",
       "      <td>17</td>\n",
       "      <td>3</td>\n",
       "      <td>18</td>\n",
       "      <td>6</td>\n",
       "      <td>0</td>\n",
       "      <td>25</td>\n",
       "      <td>8</td>\n",
       "      <td>0</td>\n",
       "    </tr>\n",
       "    <tr>\n",
       "      <th>2</th>\n",
       "      <td>Breakfast</td>\n",
       "      <td>Sausage McMuffin</td>\n",
       "      <td>3.9 oz (111 g)</td>\n",
       "      <td>370</td>\n",
       "      <td>200</td>\n",
       "      <td>23.0</td>\n",
       "      <td>35</td>\n",
       "      <td>8.0</td>\n",
       "      <td>42</td>\n",
       "      <td>0.0</td>\n",
       "      <td>...</td>\n",
       "      <td>10</td>\n",
       "      <td>4</td>\n",
       "      <td>17</td>\n",
       "      <td>2</td>\n",
       "      <td>14</td>\n",
       "      <td>8</td>\n",
       "      <td>0</td>\n",
       "      <td>25</td>\n",
       "      <td>10</td>\n",
       "      <td>0</td>\n",
       "    </tr>\n",
       "    <tr>\n",
       "      <th>3</th>\n",
       "      <td>Breakfast</td>\n",
       "      <td>Sausage McMuffin with Egg</td>\n",
       "      <td>5.7 oz (161 g)</td>\n",
       "      <td>450</td>\n",
       "      <td>250</td>\n",
       "      <td>28.0</td>\n",
       "      <td>43</td>\n",
       "      <td>10.0</td>\n",
       "      <td>52</td>\n",
       "      <td>0.0</td>\n",
       "      <td>...</td>\n",
       "      <td>10</td>\n",
       "      <td>4</td>\n",
       "      <td>17</td>\n",
       "      <td>2</td>\n",
       "      <td>21</td>\n",
       "      <td>15</td>\n",
       "      <td>0</td>\n",
       "      <td>30</td>\n",
       "      <td>15</td>\n",
       "      <td>0</td>\n",
       "    </tr>\n",
       "    <tr>\n",
       "      <th>4</th>\n",
       "      <td>Breakfast</td>\n",
       "      <td>Sausage McMuffin with Egg Whites</td>\n",
       "      <td>5.7 oz (161 g)</td>\n",
       "      <td>400</td>\n",
       "      <td>210</td>\n",
       "      <td>23.0</td>\n",
       "      <td>35</td>\n",
       "      <td>8.0</td>\n",
       "      <td>42</td>\n",
       "      <td>0.0</td>\n",
       "      <td>...</td>\n",
       "      <td>10</td>\n",
       "      <td>4</td>\n",
       "      <td>17</td>\n",
       "      <td>2</td>\n",
       "      <td>21</td>\n",
       "      <td>6</td>\n",
       "      <td>0</td>\n",
       "      <td>25</td>\n",
       "      <td>10</td>\n",
       "      <td>0</td>\n",
       "    </tr>\n",
       "  </tbody>\n",
       "</table>\n",
       "<p>5 rows × 25 columns</p>\n",
       "</div>"
      ],
      "text/plain": [
       "    Category                              Item    Serving Size  Calories  \\\n",
       "0  Breakfast                      Egg McMuffin  4.8 oz (136 g)       300   \n",
       "1  Breakfast                 Egg White Delight  4.8 oz (135 g)       250   \n",
       "2  Breakfast                  Sausage McMuffin  3.9 oz (111 g)       370   \n",
       "3  Breakfast         Sausage McMuffin with Egg  5.7 oz (161 g)       450   \n",
       "4  Breakfast  Sausage McMuffin with Egg Whites  5.7 oz (161 g)       400   \n",
       "\n",
       "   Calories from Fat  Total Fat  Total Fat (% Daily Value)  Saturated Fat  \\\n",
       "0                120       13.0                         20            5.0   \n",
       "1                 70        8.0                         12            3.0   \n",
       "2                200       23.0                         35            8.0   \n",
       "3                250       28.0                         43           10.0   \n",
       "4                210       23.0                         35            8.0   \n",
       "\n",
       "   Saturated Fat (% Daily Value)  Trans Fat  ...  \\\n",
       "0                             25        0.0  ...   \n",
       "1                             15        0.0  ...   \n",
       "2                             42        0.0  ...   \n",
       "3                             52        0.0  ...   \n",
       "4                             42        0.0  ...   \n",
       "\n",
       "   Carbohydrates (% Daily Value)  Dietary Fiber  \\\n",
       "0                             10              4   \n",
       "1                             10              4   \n",
       "2                             10              4   \n",
       "3                             10              4   \n",
       "4                             10              4   \n",
       "\n",
       "   Dietary Fiber (% Daily Value)  Sugars  Protein  Vitamin A (% Daily Value)  \\\n",
       "0                             17       3       17                         10   \n",
       "1                             17       3       18                          6   \n",
       "2                             17       2       14                          8   \n",
       "3                             17       2       21                         15   \n",
       "4                             17       2       21                          6   \n",
       "\n",
       "   Vitamin C (% Daily Value)  Calcium (% Daily Value)  Iron (% Daily Value)  \\\n",
       "0                          0                       25                    15   \n",
       "1                          0                       25                     8   \n",
       "2                          0                       25                    10   \n",
       "3                          0                       30                    15   \n",
       "4                          0                       25                    10   \n",
       "\n",
       "   cluster  \n",
       "0        0  \n",
       "1        0  \n",
       "2        0  \n",
       "3        0  \n",
       "4        0  \n",
       "\n",
       "[5 rows x 25 columns]"
      ]
     },
     "execution_count": 22,
     "metadata": {},
     "output_type": "execute_result"
    }
   ],
   "source": [
    "data.head()"
   ]
  },
  {
   "cell_type": "code",
   "execution_count": 23,
   "metadata": {},
   "outputs": [
    {
     "data": {
      "text/plain": [
       "0                                  Egg McMuffin\n",
       "1                             Egg White Delight\n",
       "2                              Sausage McMuffin\n",
       "3                     Sausage McMuffin with Egg\n",
       "4              Sausage McMuffin with Egg Whites\n",
       "                        ...                    \n",
       "90     Chipotle BBQ Snack Wrap (Crispy Chicken)\n",
       "91    Chipotle BBQ Snack Wrap (Grilled Chicken)\n",
       "92    Honey Mustard Snack Wrap (Crispy Chicken)\n",
       "94            Ranch Snack Wrap (Crispy Chicken)\n",
       "95           Ranch Snack Wrap (Grilled Chicken)\n",
       "Name: Item, Length: 77, dtype: object"
      ]
     },
     "execution_count": 23,
     "metadata": {},
     "output_type": "execute_result"
    }
   ],
   "source": [
    "mycluster= data[data['cluster']==0]['Item']\n",
    "mycluster"
   ]
  },
  {
   "cell_type": "code",
   "execution_count": 24,
   "metadata": {},
   "outputs": [
    {
     "data": {
      "text/plain": [
       "35                                              Hotcakes\n",
       "38                                            Hash Brown\n",
       "39                                        Cinnamon Melts\n",
       "40                                 Fruit & Maple Oatmeal\n",
       "41             Fruit & Maple Oatmeal without Brown Sugar\n",
       "                             ...                        \n",
       "255                   McFlurry with Oreo Cookies (Small)\n",
       "256                  McFlurry with Oreo Cookies (Medium)\n",
       "257                   McFlurry with Oreo Cookies (Snack)\n",
       "258    McFlurry with Reese's Peanut Butter Cups (Medium)\n",
       "259     McFlurry with Reese's Peanut Butter Cups (Snack)\n",
       "Name: Item, Length: 176, dtype: object"
      ]
     },
     "execution_count": 24,
     "metadata": {},
     "output_type": "execute_result"
    }
   ],
   "source": [
    "mycluster= data[data['cluster']==1]['Item']\n",
    "mycluster"
   ]
  },
  {
   "cell_type": "code",
   "execution_count": 25,
   "metadata": {},
   "outputs": [
    {
     "data": {
      "text/plain": [
       "28                        Big Breakfast (Large Biscuit)\n",
       "31        Big Breakfast with Hotcakes (Regular Biscuit)\n",
       "32          Big Breakfast with Hotcakes (Large Biscuit)\n",
       "33    Big Breakfast with Hotcakes and Egg Whites (Re...\n",
       "34    Big Breakfast with Hotcakes and Egg Whites (La...\n",
       "81                         Chicken McNuggets (20 piece)\n",
       "82                         Chicken McNuggets (40 piece)\n",
       "Name: Item, dtype: object"
      ]
     },
     "execution_count": 25,
     "metadata": {},
     "output_type": "execute_result"
    }
   ],
   "source": [
    "mycluster= data[data['cluster']==2]['Item']\n",
    "mycluster"
   ]
  },
  {
   "cell_type": "code",
   "execution_count": null,
   "metadata": {},
   "outputs": [],
   "source": [
    "#"
   ]
  }
 ],
 "metadata": {
  "kernelspec": {
   "display_name": "Python 3",
   "language": "python",
   "name": "python3"
  },
  "language_info": {
   "codemirror_mode": {
    "name": "ipython",
    "version": 3
   },
   "file_extension": ".py",
   "mimetype": "text/x-python",
   "name": "python",
   "nbconvert_exporter": "python",
   "pygments_lexer": "ipython3",
   "version": "3.8.5"
  }
 },
 "nbformat": 4,
 "nbformat_minor": 4
}
